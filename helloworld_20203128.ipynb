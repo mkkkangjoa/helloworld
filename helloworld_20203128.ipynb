{
  "nbformat": 4,
  "nbformat_minor": 0,
  "metadata": {
    "colab": {
      "name": "helloworld_20203128.ipynb",
      "provenance": [],
      "authorship_tag": "ABX9TyM1ByAroRAygSoPchdWBaqJ",
      "include_colab_link": true
    },
    "kernelspec": {
      "name": "python3",
      "display_name": "Python 3"
    }
  },
  "cells": [
    {
      "cell_type": "markdown",
      "metadata": {
        "id": "view-in-github",
        "colab_type": "text"
      },
      "source": [
        "<a href=\"https://colab.research.google.com/github/mkkkangjoa/helloworld/blob/main/helloworld_20203128.ipynb\" target=\"_parent\"><img src=\"https://colab.research.google.com/assets/colab-badge.svg\" alt=\"Open In Colab\"/></a>"
      ]
    },
    {
      "cell_type": "code",
      "metadata": {
        "id": "SGexnMfJ4kwO",
        "outputId": "c4927bf8-bd6c-49d7-ced8-7cfc45b10285",
        "colab": {
          "base_uri": "https://localhost:8080/",
          "height": 35
        }
      },
      "source": [
        "print('hello world',20203128)"
      ],
      "execution_count": 1,
      "outputs": [
        {
          "output_type": "stream",
          "text": [
            "hello world 20203128\n"
          ],
          "name": "stdout"
        }
      ]
    }
  ]
}